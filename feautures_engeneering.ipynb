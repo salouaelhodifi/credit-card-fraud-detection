{
  "cells": [
    {
      "cell_type": "code",
      "execution_count": null,
      "metadata": {
        "id": "Cd3SEgWKRnwK"
      },
      "outputs": [],
      "source": [
        "import pandas as pd\n",
        "\n",
        "df=pd.read_csv('/content/drive/MyDrive/PFE/Data sets/fraudTest.csv')\n",
        "df=pd.DataFrame(df)"
      ]
    },
    {
      "cell_type": "code",
      "execution_count": null,
      "metadata": {
        "id": "DV0WSQCYSX5t"
      },
      "outputs": [],
      "source": [
        "df.columns"
      ]
    },
    {
      "cell_type": "code",
      "execution_count": null,
      "metadata": {
        "id": "2w-XWImYROaN"
      },
      "outputs": [],
      "source": [
        "len(df)"
      ]
    },
    {
      "cell_type": "code",
      "execution_count": null,
      "metadata": {
        "id": "9PFmNlTSu-cZ"
      },
      "outputs": [],
      "source": [
        "df.columns"
      ]
    },
    {
      "cell_type": "code",
      "execution_count": null,
      "metadata": {
        "id": "1KwR5Clr6Bun"
      },
      "outputs": [],
      "source": [
        "df.drop(columns=['first','last','trans_num','Unnamed: 0','city_pop','unix_time'],inplace=True)\n"
      ]
    },
    {
      "cell_type": "code",
      "execution_count": null,
      "metadata": {
        "id": "Fiee2nbkFA-F"
      },
      "outputs": [],
      "source": [
        "plt.scatter(df.loc[df['is_fraud'] == 0]['trans_date_trans_time'], df.loc[df['is_fraud'] == 0]['amt'], label=\"Class #0\", alpha=0.5, linewidth=0.15)\n",
        "plt.scatter(df.loc[df['is_fraud'] == 1]['trans_date_trans_time'], df.loc[df['is_fraud'] == 1]['amt'], label=\"Class #1\", alpha=0.5, linewidth=0.15,c='r')\n",
        "plt.show()"
      ]
    },
    {
      "cell_type": "code",
      "execution_count": null,
      "metadata": {
        "id": "Wq63ePGu6YMO"
      },
      "outputs": [],
      "source": [
        "df.isna().sum()"
      ]
    },
    {
      "cell_type": "code",
      "execution_count": null,
      "metadata": {
        "id": "FIKc7eny6meY"
      },
      "outputs": [],
      "source": [
        "df.dtypes\n"
      ]
    },
    {
      "cell_type": "code",
      "execution_count": null,
      "metadata": {
        "id": "9F0k2yV66yn9"
      },
      "outputs": [],
      "source": [
        "#La conversion du code postal en une variable catégorielle facilite le regroupement des transactions par zone géographique,permettant ainsi une meilleure interprétation des schémas de fraude spécifiques à certaines régions ou quartiers.\n",
        "df['cc_num'] = pd.Categorical(df['cc_num'])\n",
        "df['zip'] = pd.Categorical(df['zip'])\n"
      ]
    },
    {
      "cell_type": "code",
      "execution_count": null,
      "metadata": {
        "id": "Qbdun6Kn61V0"
      },
      "outputs": [],
      "source": [
        "# Assurez-vous que la colonne de date est de type datetime\n",
        "df['trans_date_trans_time'] = pd.to_datetime(df['trans_date_trans_time'])\n",
        "df['dob'] = pd.to_datetime(df['dob'],format='%Y-%m-%d')\n",
        "df['age_cust'] = (df['trans_date_trans_time'].dt.year - df['dob'].dt.year).astype(int)#attentionnnnnnnnn\n",
        "df.drop(columns='dob',inplace=True)\n",
        "\n",
        "\n",
        "df['age_cust'].head()"
      ]
    },
    {
      "cell_type": "code",
      "execution_count": null,
      "metadata": {
        "id": "n7h9XNuc8jcB"
      },
      "outputs": [],
      "source": [
        "import numpy as np\n",
        "\n",
        "\n",
        "age_ranges = {\n",
        "    \"Child\": (0, 13),\n",
        "    \"Teen\": (13, 20),\n",
        "    \"Adult\": (20, 65),\n",
        "    \"Senior\": (65, None)}\n",
        "df[\"age_group\"] = np.where(df[\"age_cust\"] < 13, \"Child\", np.where(df[\"age_cust\"] < 20, \"Teen\", np.where(df[\"age_cust\"] < 55, \"Adult\", \"Senior\")))\n",
        "df[\"age_group\"] = pd.cut(df[\"age_cust\"], bins=[0, 13, 20, 55, 200], labels=[\"Child\", \"Teen\", \"Adult\", \"Senior\"], include_lowest=True)\n",
        "\n",
        "\n",
        "\n",
        "fraud_counts_age = df.groupby(\"age_group\")[\"is_fraud\"].sum()\n",
        "fraud_counts_age"
      ]
    },
    {
      "cell_type": "code",
      "execution_count": null,
      "metadata": {
        "id": "TCBccDQ_8lTu"
      },
      "outputs": [],
      "source": [
        "df['hour'] = df['trans_date_trans_time'].dt.hour\n",
        "df['day'] = df['trans_date_trans_time'].dt.day_name()\n",
        "df['month'] = df['trans_date_trans_time'].dt.month\n",
        "\n",
        "df.head()"
      ]
    },
    {
      "cell_type": "code",
      "execution_count": null,
      "metadata": {
        "id": "N8GP_Eum_aYU"
      },
      "outputs": [],
      "source": [
        "df['state'].unique()"
      ]
    },
    {
      "cell_type": "code",
      "execution_count": null,
      "metadata": {
        "id": "7c7lW6-Y1TTw"
      },
      "outputs": [],
      "source": [
        "# Sélectionner les intervalles de confiance pour un certain client (cc_num)\n",
        "cc_num = 4613314721966\n",
        "df_selected = df.loc[df['cc_num'] == cc_num]"
      ]
    },
    {
      "cell_type": "code",
      "execution_count": null,
      "metadata": {
        "id": "E33ROVo78tZu"
      },
      "outputs": [],
      "source": [
        "df['hourEnc'] = 0\n",
        "df.loc[df.hour < 5,'hourEnc'] = 1\n",
        "df.loc[df.hour > 21,'hourEnc'] = 1\n"
      ]
    },
    {
      "cell_type": "code",
      "execution_count": null,
      "metadata": {
        "id": "vqLKtllEgjJU"
      },
      "outputs": [],
      "source": [
        "import pandas as pd\n",
        "\n",
        "# Définir l'index comme étant une indexation temporelle basée sur la colonne 'trans_date_trans_time'\n",
        "df.index = pd.DatetimeIndex(df[\"trans_date_trans_time\"])\n",
        "\n",
        "# Trier l'index\n",
        "df = df.sort_index()\n"
      ]
    },
    {
      "cell_type": "code",
      "execution_count": null,
      "metadata": {
        "id": "XwyQj81hDTUz"
      },
      "outputs": [],
      "source": [
        "df['is_weekend'] = (df['trans_date_trans_time'].dt.dayofweek >= 5).astype(int)\n"
      ]
    },
    {
      "cell_type": "code",
      "execution_count": null,
      "metadata": {
        "id": "JWz8quRyosnv"
      },
      "outputs": [],
      "source": [
        "# Créez une nouvelle colonne pour représenter le jour de la semaine\n",
        "df['day_of_week'] = df['trans_date_trans_time'].dt.dayofweek\n",
        "\n",
        "# Créez une nouvelle colonne pour représenter les weekends (1 pour weekend, 0 sinon)\n",
        "df['is_weekend'] = df['day_of_week'].isin([5, 6]).astype(int)\n",
        "\n",
        "# Créez une colonne 'year_week' qui combine l'année et le numéro de semaine\n",
        "df['year_week'] = df['trans_date_trans_time'].dt.to_period('W').dt.to_timestamp()\n",
        "\n",
        "# Calculez le nombre de transactions pour chaque 'year_week', 'cc_num', et 'is_weekend'\n",
        "weekly_transactions = df.groupby(['year_week', 'cc_num', 'is_weekend'])['trans_date_trans_time'].count().reset_index(name='num_transactions')\n",
        "\n",
        "# Fusionnez les transactions hebdomadaires avec df_train en utilisant 'year_week', 'cc_num', et 'is_weekend' comme clés\n",
        "df = pd.merge(df, weekly_transactions, on=['year_week', 'cc_num', 'is_weekend'], how='left')\n",
        "\n",
        "\n",
        "\n",
        "\n"
      ]
    },
    {
      "cell_type": "code",
      "execution_count": null,
      "metadata": {
        "id": "gNcVvag4Did_"
      },
      "outputs": [],
      "source": [
        "df"
      ]
    },
    {
      "cell_type": "code",
      "execution_count": null,
      "metadata": {
        "id": "rPvGgQS-XL7x"
      },
      "outputs": [],
      "source": [
        "import matplotlib.pyplot as plt\n",
        "import seaborn as sns\n",
        "\n",
        "class_counts = df[\"is_fraud\"].value_counts()\n",
        "\n",
        "fig, axes = plt.subplots(nrows=1, ncols=2, figsize=(14, 6))\n",
        "\n",
        "\n",
        "\n",
        "# Bar Graph\n",
        "axes[0].bar(class_counts.index, class_counts.values, color=['green', 'red'])\n",
        "axes[0].set_title('Credit Card Fraud Class Distribution (Bar)')\n",
        "axes[0].set_xlabel('Class')\n",
        "axes[0].set_ylabel('Count')\n",
        "axes[0].set_xticks([0, 1])  # Assurez-vous que l'axe des x a des marques pour 0 et 1\n",
        "axes[0].set_xticklabels(['0', '1'])  # Étiquettes explicites pour les classes\n",
        "\n",
        "# Pie Chart\n",
        "\n",
        "axes[1].pie(class_counts, labels=class_counts.index, autopct='%1.1f%%', colors=['green', 'red'])\n",
        "axes[1].set_title('Credit Card Fraud Class Distribution (Pie)')\n",
        "\n",
        "plt.tight_layout()\n",
        "plt.show()"
      ]
    },
    {
      "cell_type": "code",
      "execution_count": null,
      "metadata": {
        "id": "b5165Vj32Fs7"
      },
      "outputs": [],
      "source": [
        "df.columns"
      ]
    },
    {
      "cell_type": "markdown",
      "metadata": {
        "id": "ORZYYy7oE0Lk"
      },
      "source": [
        "***last days(rolling)***"
      ]
    },
    {
      "cell_type": "code",
      "execution_count": null,
      "metadata": {
        "id": "93y9vu2WxxNy"
      },
      "outputs": [],
      "source": [
        "# Pour le dataset d'entraînement\n",
        "df.index = pd.DatetimeIndex(df[\"trans_date_trans_time\"])\n",
        "df = df.sort_index()\n",
        "# Calcul de la moyenne glissante des montants de transaction pour chaque 'cc_num' avec shift\n",
        "df[\"avg_amt_1_lastDay\"] = df.groupby(\"cc_num\")[\"amt\"].transform(lambda x: x.rolling(\"1d\").mean())\n",
        "df[\"avg_amt_7_lastDay\"] = df.groupby(\"cc_num\")[\"amt\"].transform(lambda x: x.rolling(\"7d\").mean())\n",
        "df[\"avg_amt_30_lastDay\"] = df.groupby(\"cc_num\")[\"amt\"].transform(lambda x: x.rolling(\"30d\").mean())\n",
        "\n"
      ]
    },
    {
      "cell_type": "code",
      "execution_count": null,
      "metadata": {
        "id": "9yR2xM5pl6o3"
      },
      "outputs": [],
      "source": [
        "# Calculating the total amount of transactions excluding the current day\n",
        "df[\"total_amt_1_lastDay\"] = df.groupby(\"cc_num\")[\"amt\"].transform(lambda x: x.rolling(\"1d\").sum())\n",
        "df[\"total_amt_7_lastDay\"] = df.groupby(\"cc_num\")[\"amt\"].transform(lambda x: x.rolling(\"7d\").sum())\n",
        "df[\"total_amt_30_lastDay\"] = df.groupby(\"cc_num\")[\"amt\"].transform(lambda x: x.rolling(\"30d\").sum())\n",
        "\n"
      ]
    },
    {
      "cell_type": "code",
      "execution_count": null,
      "metadata": {
        "id": "X7KZSqtXlFWB"
      },
      "outputs": [],
      "source": [
        "df.isnull().sum().head(35)"
      ]
    },
    {
      "cell_type": "code",
      "execution_count": null,
      "metadata": {
        "id": "8OL1FOMChqnP"
      },
      "outputs": [],
      "source": [
        "df"
      ]
    },
    {
      "cell_type": "code",
      "execution_count": null,
      "metadata": {
        "id": "8ogVWhbViNs7"
      },
      "outputs": [],
      "source": [
        "\n",
        "df_selected = df[(df['cc_num'] == 60416207185\t)]\n",
        "\n",
        "# Affichage des lignes sélectionnées\n",
        "df_selected\n",
        "\n"
      ]
    },
    {
      "cell_type": "code",
      "execution_count": null,
      "metadata": {
        "id": "8JEzUnSGuPoQ"
      },
      "outputs": [],
      "source": [
        "df['trans_date_trans_time'] = pd.to_datetime(df['trans_date_trans_time'])\n"
      ]
    },
    {
      "cell_type": "markdown",
      "metadata": {
        "id": "hGZxwDNnFHmc"
      },
      "source": [
        "***chaque jour***"
      ]
    },
    {
      "cell_type": "code",
      "execution_count": null,
      "metadata": {
        "id": "TVT_M7norJFV"
      },
      "outputs": [],
      "source": [
        "# Calculer le total des montants de transaction pour chaque groupe 'cc_num' chauqe mois , semaine , 1 jour\n",
        "df['total_amt_every_day'] = df.groupby(['cc_num', df['trans_date_trans_time'].dt.date])['amt'].transform('sum')\n",
        "df['total_amt_per_30_days'] = df.groupby(['cc_num', df['trans_date_trans_time'].dt.month])['amt'].transform('sum')\n",
        "df['total_amt_7_days'] = df.groupby(['cc_num', pd.Grouper(key='trans_date_trans_time', freq='W')])['amt'].transform('sum')\n"
      ]
    },
    {
      "cell_type": "code",
      "execution_count": null,
      "metadata": {
        "id": "jHe0-CE5AESB"
      },
      "outputs": [],
      "source": [
        "# Calculer la moyenne des montants de transaction pour chaque groupe 'cc_num' chauqe mois , semaine , 1 jour\n",
        "df['avg_amt_every_day'] = df.groupby(['cc_num', df['trans_date_trans_time'].dt.date])['amt'].transform('mean')\n",
        "df['avg_amt_per_30_days'] = df.groupby(['cc_num', df['trans_date_trans_time'].dt.month])['amt'].transform('mean')\n",
        "df['avg_amt_per_7_days'] = df.groupby(['cc_num', pd.Grouper(key='trans_date_trans_time', freq='W')])['amt'].transform('mean')\n",
        "\n"
      ]
    },
    {
      "cell_type": "code",
      "execution_count": null,
      "metadata": {
        "id": "JPWjoclJyy6u"
      },
      "outputs": [],
      "source": [
        "\n",
        "df_selected = df[(df['cc_num'] == 60416207185\t)]\n",
        "\n",
        "# Affichage des lignes sélectionnées\n",
        "df_selected\n",
        "\n"
      ]
    },
    {
      "cell_type": "code",
      "execution_count": null,
      "metadata": {
        "id": "HDVkT2w6r077"
      },
      "outputs": [],
      "source": [
        "# Calculer le nombre de transactions par client pour chaque période(1jour,7jours,30jours)\n",
        "df['total_num_transactions_per_day']= df.groupby(['cc_num', pd.Grouper(key='trans_date_trans_time', freq='D')]).transform('size')\n",
        "df['total_num_transactions_per_7_days']= df.groupby(['cc_num', pd.Grouper(key='trans_date_trans_time', freq='7D')]).transform('size')\n",
        "df['total_num_transactions_per_30_days'] = df.groupby(['cc_num', pd.Grouper(key='trans_date_trans_time', freq='30D')]).transform('size')\n",
        "\n"
      ]
    },
    {
      "cell_type": "code",
      "execution_count": null,
      "metadata": {
        "id": "GJEiGhaOJiYP"
      },
      "outputs": [],
      "source": [
        "# Calculating the number of transactions excluding the current day\n",
        "df['total_num_transactions_lastday'] = df.groupby(\"cc_num\")[\"trans_date_trans_time\"].transform(lambda x: x.rolling(\"1d\").count())\n",
        "df['total_num_transactions_last7_days'] = df.groupby(\"cc_num\")[\"trans_date_trans_time\"].transform(lambda x: x.rolling(\"7d\").count())\n",
        "df['total_num_transactions_last30_days'] = df.groupby(\"cc_num\")[\"trans_date_trans_time\"].transform(lambda x: x.rolling(\"30d\").count())\n",
        "\n"
      ]
    },
    {
      "cell_type": "code",
      "execution_count": null,
      "metadata": {
        "id": "FqqJiYQVVhwq"
      },
      "outputs": [],
      "source": [
        "# Calculate the number of transactions for each merchant for each client over the last day, 7 days, and 30 days\n",
        "# Exclude the current day's data by using shift(1)\n",
        "df['total_num_trans_merchant_client_lastday'] = df.groupby([\"cc_num\", 'merchant'])[\"trans_date_trans_time\"].transform(lambda x: x.rolling(\"1d\").count())\n",
        "df['total_num_trans_merchant_client_last7_days'] = df.groupby([\"cc_num\", 'merchant'])[\"trans_date_trans_time\"].transform(lambda x: x.rolling(\"7d\").count())\n",
        "df['total_num_trans_merchant_client_last30_days'] = df.groupby([\"cc_num\", 'merchant'])[\"trans_date_trans_time\"].transform(lambda x: x.rolling(\"30d\").count())\n",
        "\n",
        "\n"
      ]
    },
    {
      "cell_type": "code",
      "execution_count": null,
      "metadata": {
        "id": "gnP2VcEwX66t"
      },
      "outputs": [],
      "source": [
        "# Calculer le nombre de transactions par client et marchant pour chaque période(1jour,7jours,30jours)\n",
        "df['total_num_trans_merchant_per_day']= df.groupby(['cc_num','merchant', pd.Grouper(key='trans_date_trans_time', freq='D')]).transform('size')\n",
        "df['total_num_trans_merchant_per_7_days']= df.groupby(['cc_num', 'merchant',pd.Grouper(key='trans_date_trans_time', freq='7D')]).transform('size')\n",
        "df['total_num_trans_merchant_per_30_days'] = df.groupby(['cc_num','merchant', pd.Grouper(key='trans_date_trans_time', freq='30D')]).transform('size')\n"
      ]
    },
    {
      "cell_type": "code",
      "execution_count": null,
      "metadata": {
        "id": "vqZ6Z69C4sk5"
      },
      "outputs": [],
      "source": [
        "df"
      ]
    },
    {
      "cell_type": "code",
      "execution_count": null,
      "metadata": {
        "id": "xl4oRzLoiTSs"
      },
      "outputs": [],
      "source": [
        "# Calculer le total des montants de transaction client et marchant pour chaque groupe 'cc_num' chaque mois , semaine , 1 jour\n",
        "df['total_amt_client_merchant_every_day'] = df.groupby(['cc_num','merchant', df['trans_date_trans_time'].dt.date])['amt'].transform('sum')\n",
        "df['total_amt_client_merchant_per_30_days'] = df.groupby(['cc_num','merchant', df['trans_date_trans_time'].dt.month])['amt'].transform('sum')\n",
        "df['total_amt_client_merchant_7_days'] = df.groupby(['cc_num', 'merchant',pd.Grouper(key='trans_date_trans_time', freq='W')])['amt'].transform('sum')\n",
        "\n"
      ]
    },
    {
      "cell_type": "code",
      "execution_count": null,
      "metadata": {
        "id": "FaVcwpm943Ph"
      },
      "outputs": [],
      "source": [
        "df"
      ]
    },
    {
      "cell_type": "code",
      "execution_count": null,
      "metadata": {
        "id": "pFtCVuWctTb6"
      },
      "outputs": [],
      "source": [
        "# Calculate rolling sums excluding the current day's transactions\n",
        "df[\"total_amt_client_merchant_1_lastDay\"] = df.groupby([\"cc_num\",'merchant'])[\"amt\"].transform(lambda x: x.rolling(\"1d\").sum())\n",
        "df[\"total_amt_client_merchant_7_lastDay\"] = df.groupby([\"cc_num\",'merchant'])[\"amt\"].transform(lambda x: x.rolling(\"7d\").sum())\n",
        "df[\"total_amt_client_merchant_30_lastDay\"] = df.groupby([\"cc_num\",'merchant'])[\"amt\"].transform(lambda x: x.rolling(\"30d\").sum())\n"
      ]
    },
    {
      "cell_type": "code",
      "execution_count": null,
      "metadata": {
        "id": "YeLbxbYU5Aq_"
      },
      "outputs": [],
      "source": [
        "df"
      ]
    },
    {
      "cell_type": "code",
      "execution_count": null,
      "metadata": {
        "id": "p7wcYmn4kt9O"
      },
      "outputs": [],
      "source": [
        "# Calculer la moyenne des montants de transaction pour chaque groupe 'cc_num' chauqe mois , semaine , 1 jour\n",
        "df['avg_amt_client_merchant_every_day'] = df.groupby(['cc_num','merchant',df['trans_date_trans_time'].dt.date])['amt'].transform('mean')\n",
        "df['avg_amt_client_merchant_per_30_days'] = df.groupby(['cc_num','merchant', df['trans_date_trans_time'].dt.month])['amt'].transform('mean')\n",
        "df['avg_amt_client_merchant_per_7_days'] = df.groupby(['cc_num','merchant', pd.Grouper(key='trans_date_trans_time', freq='W')])['amt'].transform('mean')\n",
        "\n",
        "\n"
      ]
    },
    {
      "cell_type": "code",
      "execution_count": null,
      "metadata": {
        "id": "xNm_8sxldIB9"
      },
      "outputs": [],
      "source": [
        "len(df.columns)"
      ]
    },
    {
      "cell_type": "code",
      "execution_count": null,
      "metadata": {
        "id": "gRl17vgXQjz7"
      },
      "outputs": [],
      "source": [
        "df.isnull().sum().tail(60,)"
      ]
    },
    {
      "cell_type": "code",
      "execution_count": null,
      "metadata": {
        "id": "sikzmTnkuLVf"
      },
      "outputs": [],
      "source": [
        "from math import radians, sin, cos, sqrt, atan2\n",
        "\n",
        "def haversine(lat1, lon1, lat2, lon2):\n",
        "    # Convertir les degrés en radians\n",
        "    lat1, lon1, lat2, lon2 = map(radians, [lat1, lon1, lat2, lon2])\n",
        "\n",
        "    # Rayon moyen de la terre en mètres\n",
        "    R = 6371000.0\n",
        "\n",
        "    # des différences de latitude et de longitude\n",
        "    dlat = lat2 - lat1\n",
        "    dlon = lon2 - lon1\n",
        "\n",
        "    # Calcul de la distance entre les deux points en utilisant la formule de Haversine\n",
        "    a = sin(dlat / 2)**2 + cos(lat1) * cos(lat2) * sin(dlon / 2)**2\n",
        "    c = 2 * atan2(sqrt(a), sqrt(1 - a))\n",
        "    distance = R * c\n",
        "\n",
        "    return distance / 1000\n",
        "\n",
        "# Créer une nouvelle colonne 'distance_en_km'\n",
        "df['distance_en_km'] = df.apply(lambda row: haversine(row['merch_lat'], row['merch_long'], row['lat'], row['long']), axis=1)\n",
        "\n"
      ]
    },
    {
      "cell_type": "code",
      "execution_count": null,
      "metadata": {
        "id": "VoElH692vWgg"
      },
      "outputs": [],
      "source": [
        "def timeDifference(x):\n",
        "    x['time_diff'] = x.trans_date_trans_time - x.trans_date_trans_time.shift()\n",
        "    return x\n",
        "\n",
        "df= df.groupby(['cc_num']).apply(timeDifference)\n",
        "\n"
      ]
    },
    {
      "cell_type": "code",
      "execution_count": null,
      "metadata": {
        "id": "Tu8nWHzrvmr0"
      },
      "outputs": [],
      "source": [
        "df['time_diff'] = df['time_diff'].dt.seconds"
      ]
    },
    {
      "cell_type": "code",
      "execution_count": null,
      "metadata": {
        "id": "q5Af3Wdev6WQ"
      },
      "outputs": [],
      "source": [
        "# Calculer la moyenne des valeurs non nulles de time_diff pour chaque client\n",
        "avg_time_diff_per_client_train = df.groupby(df['cc_num'])['time_diff'].mean()\n",
        "\n",
        "\n",
        "# Remplacer les valeurs nulles par la moyenne correspondante de chaque client\n",
        "df['time_diff'] = df.apply(lambda row: avg_time_diff_per_client_train[row['cc_num']] if pd.isnull(row['time_diff']) else row['time_diff'], axis=1)\n",
        "\n"
      ]
    },
    {
      "cell_type": "code",
      "execution_count": null,
      "metadata": {
        "id": "y6MV7b8XtKVO"
      },
      "outputs": [],
      "source": [
        "df.isnull().sum().tail(60)"
      ]
    },
    {
      "cell_type": "code",
      "execution_count": null,
      "metadata": {
        "id": "Zm4d-5Ysyk5-"
      },
      "outputs": [],
      "source": [
        "df"
      ]
    },
    {
      "cell_type": "code",
      "execution_count": null,
      "metadata": {
        "id": "oeQlUl5IEjZm"
      },
      "outputs": [],
      "source": [
        "df_selected = df[(df['cc_num'] == 60416207185\t)]\n",
        "\n",
        "\n",
        "# Affichage des lignes sélectionnées\n",
        "df_selected"
      ]
    },
    {
      "cell_type": "code",
      "execution_count": null,
      "metadata": {
        "id": "0326n2UctiYb"
      },
      "outputs": [],
      "source": [
        "df.columns"
      ]
    },
    {
      "cell_type": "code",
      "execution_count": null,
      "metadata": {
        "id": "4C1KmCaMCeZ1"
      },
      "outputs": [],
      "source": [
        "df.index"
      ]
    },
    {
      "cell_type": "code",
      "execution_count": null,
      "metadata": {
        "id": "EtPiLeaFLtu_"
      },
      "outputs": [],
      "source": [
        "len(df)"
      ]
    },
    {
      "cell_type": "code",
      "execution_count": null,
      "metadata": {
        "id": "sgfYZF342U9D"
      },
      "outputs": [],
      "source": [
        "import pandas as pd\n",
        "\n",
        "# Création d'une fonction pour déterminer la période en fonction de la date de transaction\n",
        "def determine_period(trans_date):\n",
        "    day = trans_date.day\n",
        "    if 1 <= day <= 7:\n",
        "        return 1\n",
        "    elif 7 < day < 23:\n",
        "        return 2\n",
        "    else:\n",
        "        return 3\n",
        "\n",
        "# Ajout de la colonne 'period_first_last' en appliquant la fonction à la colonne 'trans_date_trans_time'\n",
        "df['period_first_last'] = df['trans_date_trans_time'].apply(determine_period)\n",
        "\n",
        "# Affichage des premières lignes pour vérification\n",
        "df[['trans_date_trans_time', 'period_first_last']]\n"
      ]
    },
    {
      "cell_type": "code",
      "execution_count": null,
      "metadata": {
        "id": "tQ083s8d0654"
      },
      "outputs": [],
      "source": [
        "# Sélection des colonnes 'week_of_year' et 'trans_date_trans_time'\n",
        "selected_columns = ['year_week']\n",
        "\n",
        "# Affichage des données\n",
        "df.loc[:, selected_columns]\n"
      ]
    },
    {
      "cell_type": "code",
      "execution_count": null,
      "metadata": {
        "id": "qr2A8sPNmxaM"
      },
      "outputs": [],
      "source": [
        "df['year_week'] = pd.to_datetime(df['year_week'])\n",
        "# Extrait l'année et le numéro de semaine de chaque date\n",
        "df['week_of_year'] = df['year_week'].dt.isocalendar().week\n",
        "\n",
        "\n"
      ]
    },
    {
      "cell_type": "code",
      "execution_count": null,
      "metadata": {
        "id": "HsG8IjDy4Mzr"
      },
      "outputs": [],
      "source": [
        "df.dtypes"
      ]
    },
    {
      "cell_type": "code",
      "execution_count": null,
      "metadata": {
        "id": "Z71x3GnB0ZAi"
      },
      "outputs": [],
      "source": [
        "# Sélection des colonnes 'week_of_year' et 'trans_date_trans_time'\n",
        "selected_columns = ['week_of_year', 'trans_date_trans_time']\n",
        "\n",
        "# Affichage desunix_time  données\n",
        "df.loc[:, selected_columns]\n"
      ]
    },
    {
      "cell_type": "code",
      "execution_count": null,
      "metadata": {
        "id": "Lf97QaIhtgV3"
      },
      "outputs": [],
      "source": [
        "df"
      ]
    },
    {
      "cell_type": "code",
      "execution_count": null,
      "metadata": {
        "id": "lt0L-fSB3W8a"
      },
      "outputs": [],
      "source": [
        "df.isnull().sum().tail(60)"
      ]
    },
    {
      "cell_type": "code",
      "execution_count": null,
      "metadata": {
        "id": "W-jaW1SS3eJd"
      },
      "outputs": [],
      "source": [
        "df.columns"
      ]
    },
    {
      "cell_type": "code",
      "execution_count": null,
      "metadata": {
        "id": "h3P96BNB9ER5"
      },
      "outputs": [],
      "source": [
        "'''from sklearn.preprocessing import LabelEncoder\n",
        "\n",
        "def label_encoding(df):\n",
        "    # Créer un LabelEncoder\n",
        "    lb_encoder = LabelEncoder()\n",
        "\n",
        "    # Parcourir les colonnes du DataFrame\n",
        "    for col in df.columns:\n",
        "\n",
        "        if df[col].dtype == 'object'or df[col].dtype == 'category':\n",
        "            # Appliquer le codage des étiquettes à la colonne\n",
        "            df[col] = lb_encoder.fit_transform(df[col])\n",
        "\n",
        "    return df\n",
        "df= label_encoding(df)'''\n"
      ]
    },
    {
      "cell_type": "code",
      "execution_count": null,
      "metadata": {
        "id": "qtfPV0UXDGED"
      },
      "outputs": [],
      "source": [
        "len(df.columns)"
      ]
    },
    {
      "cell_type": "code",
      "execution_count": null,
      "metadata": {
        "id": "oQxFo472hr-J"
      },
      "outputs": [],
      "source": [
        "df.columns"
      ]
    },
    {
      "cell_type": "code",
      "execution_count": null,
      "metadata": {
        "id": "ZND9ED9_cO0W"
      },
      "outputs": [],
      "source": [
        "df.dtypes.head(20)"
      ]
    },
    {
      "cell_type": "code",
      "execution_count": null,
      "metadata": {
        "id": "9UmHBR2Lq5UY"
      },
      "outputs": [],
      "source": [
        "from google.colab import drive\n",
        "drive.mount('/content/drive')\n",
        "\n",
        "# Sauvegarder dans Google Drive\n",
        "df.to_parquet('/content/drive/MyDrive/PFE/Data sets/df_feature.parquet')\n",
        "\n"
      ]
    },
    {
      "cell_type": "code",
      "execution_count": null,
      "metadata": {
        "id": "W_y7KwDGwUXw"
      },
      "outputs": [],
      "source": [
        "import pandas as pd\n",
        "df= pd.read_parquet('/content/drive/MyDrive/PFE/Data sets/df_feature.parquet')\n"
      ]
    },
    {
      "cell_type": "code",
      "source": [
        "df"
      ],
      "metadata": {
        "colab": {
          "base_uri": "https://localhost:8080/",
          "height": 822
        },
        "id": "tx4fq3uahKtl",
        "outputId": "5550f7da-8944-4041-9b6f-ae1c27dab01e"
      },
      "execution_count": null,
      "outputs": [
        {
          "output_type": "execute_result",
          "data": {
            "text/plain": [
              "                                          trans_date_trans_time  \\\n",
              "cc_num              trans_date_trans_time                         \n",
              "60416207185         2020-06-21 13:05:42     2020-06-21 13:05:42   \n",
              "                    2020-06-21 16:25:36     2020-06-21 16:25:36   \n",
              "                    2020-06-22 07:58:33     2020-06-22 07:58:33   \n",
              "                    2020-06-22 15:32:31     2020-06-22 15:32:31   \n",
              "                    2020-06-23 12:28:54     2020-06-23 12:28:54   \n",
              "...                                                         ...   \n",
              "4992346398065154184 2020-12-31 02:10:10     2020-12-31 02:10:10   \n",
              "                    2020-12-31 05:13:35     2020-12-31 05:13:35   \n",
              "                    2020-12-31 11:15:44     2020-12-31 11:15:44   \n",
              "                    2020-12-31 11:17:25     2020-12-31 11:17:25   \n",
              "                    2020-12-31 13:24:36     2020-12-31 13:24:36   \n",
              "\n",
              "                                                        cc_num  \\\n",
              "cc_num              trans_date_trans_time                        \n",
              "60416207185         2020-06-21 13:05:42            60416207185   \n",
              "                    2020-06-21 16:25:36            60416207185   \n",
              "                    2020-06-22 07:58:33            60416207185   \n",
              "                    2020-06-22 15:32:31            60416207185   \n",
              "                    2020-06-23 12:28:54            60416207185   \n",
              "...                                                        ...   \n",
              "4992346398065154184 2020-12-31 02:10:10    4992346398065154184   \n",
              "                    2020-12-31 05:13:35    4992346398065154184   \n",
              "                    2020-12-31 11:15:44    4992346398065154184   \n",
              "                    2020-12-31 11:17:25    4992346398065154184   \n",
              "                    2020-12-31 13:24:36    4992346398065154184   \n",
              "\n",
              "                                                                       merchant  \\\n",
              "cc_num              trans_date_trans_time                                         \n",
              "60416207185         2020-06-21 13:05:42                       fraud_Kutch-Ferry   \n",
              "                    2020-06-21 16:25:36                   fraud_Halvorson Group   \n",
              "                    2020-06-22 07:58:33                fraud_Conroy-Cruickshank   \n",
              "                    2020-06-22 15:32:31                        fraud_Larkin Ltd   \n",
              "                    2020-06-23 12:28:54                   fraud_Leffler-Goldner   \n",
              "...                                                                         ...   \n",
              "4992346398065154184 2020-12-31 02:10:10                 fraud_Parisian and Sons   \n",
              "                    2020-12-31 05:13:35                 fraud_Bogisich-Homenick   \n",
              "                    2020-12-31 11:15:44                  fraud_Erdman-Kertzmann   \n",
              "                    2020-12-31 11:17:25                     fraud_Stracke-Lemke   \n",
              "                    2020-12-31 13:24:36    fraud_Roberts, Daniel and Macejkovic   \n",
              "\n",
              "                                                category     amt gender  \\\n",
              "cc_num              trans_date_trans_time                                 \n",
              "60416207185         2020-06-21 13:05:42             home  124.66      F   \n",
              "                    2020-06-21 16:25:36         misc_pos   78.52      F   \n",
              "                    2020-06-22 07:58:33    gas_transport   65.25      F   \n",
              "                    2020-06-22 15:32:31        kids_pets   87.74      F   \n",
              "                    2020-06-23 12:28:54    personal_care  148.02      F   \n",
              "...                                                  ...     ...    ...   \n",
              "4992346398065154184 2020-12-31 02:10:10    gas_transport   66.11      M   \n",
              "                    2020-12-31 05:13:35         misc_net    4.58      M   \n",
              "                    2020-12-31 11:15:44    gas_transport   95.96      M   \n",
              "                    2020-12-31 11:17:25      grocery_pos  149.48      M   \n",
              "                    2020-12-31 13:24:36        kids_pets   20.55      M   \n",
              "\n",
              "                                                      street           city  \\\n",
              "cc_num              trans_date_trans_time                                     \n",
              "60416207185         2020-06-21 13:05:42     9886 Anita Drive  Fort Washakie   \n",
              "                    2020-06-21 16:25:36     9886 Anita Drive  Fort Washakie   \n",
              "                    2020-06-22 07:58:33     9886 Anita Drive  Fort Washakie   \n",
              "                    2020-06-22 15:32:31     9886 Anita Drive  Fort Washakie   \n",
              "                    2020-06-23 12:28:54     9886 Anita Drive  Fort Washakie   \n",
              "...                                                      ...            ...   \n",
              "4992346398065154184 2020-12-31 02:10:10    920 Patrick Light        Mc Nabb   \n",
              "                    2020-12-31 05:13:35    920 Patrick Light        Mc Nabb   \n",
              "                    2020-12-31 11:15:44    920 Patrick Light        Mc Nabb   \n",
              "                    2020-12-31 11:17:25    920 Patrick Light        Mc Nabb   \n",
              "                    2020-12-31 13:24:36    920 Patrick Light        Mc Nabb   \n",
              "\n",
              "                                          state    zip  ...  \\\n",
              "cc_num              trans_date_trans_time               ...   \n",
              "60416207185         2020-06-21 13:05:42      WY  82514  ...   \n",
              "                    2020-06-21 16:25:36      WY  82514  ...   \n",
              "                    2020-06-22 07:58:33      WY  82514  ...   \n",
              "                    2020-06-22 15:32:31      WY  82514  ...   \n",
              "                    2020-06-23 12:28:54      WY  82514  ...   \n",
              "...                                         ...    ...  ...   \n",
              "4992346398065154184 2020-12-31 02:10:10      IL  61335  ...   \n",
              "                    2020-12-31 05:13:35      IL  61335  ...   \n",
              "                    2020-12-31 11:15:44      IL  61335  ...   \n",
              "                    2020-12-31 11:17:25      IL  61335  ...   \n",
              "                    2020-12-31 13:24:36      IL  61335  ...   \n",
              "\n",
              "                                           total_amt_client_merchant_1_lastDay  \\\n",
              "cc_num              trans_date_trans_time                                        \n",
              "60416207185         2020-06-21 13:05:42                                 124.66   \n",
              "                    2020-06-21 16:25:36                                  78.52   \n",
              "                    2020-06-22 07:58:33                                  65.25   \n",
              "                    2020-06-22 15:32:31                                  87.74   \n",
              "                    2020-06-23 12:28:54                                 148.02   \n",
              "...                                                                        ...   \n",
              "4992346398065154184 2020-12-31 02:10:10                                  66.11   \n",
              "                    2020-12-31 05:13:35                                   4.58   \n",
              "                    2020-12-31 11:15:44                                  95.96   \n",
              "                    2020-12-31 11:17:25                                 149.48   \n",
              "                    2020-12-31 13:24:36                                  20.55   \n",
              "\n",
              "                                           total_amt_client_merchant_7_lastDay  \\\n",
              "cc_num              trans_date_trans_time                                        \n",
              "60416207185         2020-06-21 13:05:42                                 124.66   \n",
              "                    2020-06-21 16:25:36                                  78.52   \n",
              "                    2020-06-22 07:58:33                                  65.25   \n",
              "                    2020-06-22 15:32:31                                  87.74   \n",
              "                    2020-06-23 12:28:54                                 148.02   \n",
              "...                                                                        ...   \n",
              "4992346398065154184 2020-12-31 02:10:10                                  66.11   \n",
              "                    2020-12-31 05:13:35                                   4.58   \n",
              "                    2020-12-31 11:15:44                                  95.96   \n",
              "                    2020-12-31 11:17:25                                 149.48   \n",
              "                    2020-12-31 13:24:36                                  20.55   \n",
              "\n",
              "                                          total_amt_client_merchant_30_lastDay  \\\n",
              "cc_num              trans_date_trans_time                                        \n",
              "60416207185         2020-06-21 13:05:42                                 124.66   \n",
              "                    2020-06-21 16:25:36                                  78.52   \n",
              "                    2020-06-22 07:58:33                                  65.25   \n",
              "                    2020-06-22 15:32:31                                  87.74   \n",
              "                    2020-06-23 12:28:54                                 148.02   \n",
              "...                                                                        ...   \n",
              "4992346398065154184 2020-12-31 02:10:10                                 140.12   \n",
              "                    2020-12-31 05:13:35                                   4.58   \n",
              "                    2020-12-31 11:15:44                                  95.96   \n",
              "                    2020-12-31 11:17:25                                 149.48   \n",
              "                    2020-12-31 13:24:36                                  20.55   \n",
              "\n",
              "                                           avg_amt_client_merchant_every_day  \\\n",
              "cc_num              trans_date_trans_time                                      \n",
              "60416207185         2020-06-21 13:05:42                               124.66   \n",
              "                    2020-06-21 16:25:36                                78.52   \n",
              "                    2020-06-22 07:58:33                                65.25   \n",
              "                    2020-06-22 15:32:31                                87.74   \n",
              "                    2020-06-23 12:28:54                               148.02   \n",
              "...                                                                      ...   \n",
              "4992346398065154184 2020-12-31 02:10:10                                66.11   \n",
              "                    2020-12-31 05:13:35                                 4.58   \n",
              "                    2020-12-31 11:15:44                                95.96   \n",
              "                    2020-12-31 11:17:25                               149.48   \n",
              "                    2020-12-31 13:24:36                                20.55   \n",
              "\n",
              "                                           avg_amt_client_merchant_per_30_days  \\\n",
              "cc_num              trans_date_trans_time                                        \n",
              "60416207185         2020-06-21 13:05:42                                 124.66   \n",
              "                    2020-06-21 16:25:36                                  78.52   \n",
              "                    2020-06-22 07:58:33                                  65.25   \n",
              "                    2020-06-22 15:32:31                                  87.74   \n",
              "                    2020-06-23 12:28:54                                 148.02   \n",
              "...                                                                        ...   \n",
              "4992346398065154184 2020-12-31 02:10:10                                  70.06   \n",
              "                    2020-12-31 05:13:35                                   4.58   \n",
              "                    2020-12-31 11:15:44                                  95.96   \n",
              "                    2020-12-31 11:17:25                                 149.48   \n",
              "                    2020-12-31 13:24:36                                  20.55   \n",
              "\n",
              "                                           avg_amt_client_customer_per_7_days  \\\n",
              "cc_num              trans_date_trans_time                                       \n",
              "60416207185         2020-06-21 13:05:42                                124.66   \n",
              "                    2020-06-21 16:25:36                                 78.52   \n",
              "                    2020-06-22 07:58:33                                 65.25   \n",
              "                    2020-06-22 15:32:31                                 87.74   \n",
              "                    2020-06-23 12:28:54                                148.02   \n",
              "...                                                                       ...   \n",
              "4992346398065154184 2020-12-31 02:10:10                                 66.11   \n",
              "                    2020-12-31 05:13:35                                  4.58   \n",
              "                    2020-12-31 11:15:44                                 95.96   \n",
              "                    2020-12-31 11:17:25                                149.48   \n",
              "                    2020-12-31 13:24:36                                 20.55   \n",
              "\n",
              "                                           distance_en_km     time_diff  \\\n",
              "cc_num              trans_date_trans_time                                 \n",
              "60416207185         2020-06-21 13:05:42         30.457093  21909.406204   \n",
              "                    2020-06-21 16:25:36         91.942935  11994.000000   \n",
              "                    2020-06-22 07:58:33        121.857420  55977.000000   \n",
              "                    2020-06-22 15:32:31         65.414164  27238.000000   \n",
              "                    2020-06-23 12:28:54         38.311273  75383.000000   \n",
              "...                                                   ...           ...   \n",
              "4992346398065154184 2020-12-31 02:10:10         44.885043   8077.000000   \n",
              "                    2020-12-31 05:13:35         81.485915  11005.000000   \n",
              "                    2020-12-31 11:15:44         36.046110  21729.000000   \n",
              "                    2020-12-31 11:17:25         81.769332    101.000000   \n",
              "                    2020-12-31 13:24:36         22.078030   7631.000000   \n",
              "\n",
              "                                          period_first_last  week_of_year  \n",
              "cc_num              trans_date_trans_time                                  \n",
              "60416207185         2020-06-21 13:05:42                   2            25  \n",
              "                    2020-06-21 16:25:36                   2            25  \n",
              "                    2020-06-22 07:58:33                   2            26  \n",
              "                    2020-06-22 15:32:31                   2            26  \n",
              "                    2020-06-23 12:28:54                   3            26  \n",
              "...                                                     ...           ...  \n",
              "4992346398065154184 2020-12-31 02:10:10                   3            53  \n",
              "                    2020-12-31 05:13:35                   3            53  \n",
              "                    2020-12-31 11:15:44                   3            53  \n",
              "                    2020-12-31 11:17:25                   3            53  \n",
              "                    2020-12-31 13:24:36                   3            53  \n",
              "\n",
              "[555719 rows x 64 columns]"
            ],
            "text/html": [
              "\n",
              "  <div id=\"df-9f5d5df6-70d2-4458-ad3b-78a6b116ca9e\" class=\"colab-df-container\">\n",
              "    <div>\n",
              "<style scoped>\n",
              "    .dataframe tbody tr th:only-of-type {\n",
              "        vertical-align: middle;\n",
              "    }\n",
              "\n",
              "    .dataframe tbody tr th {\n",
              "        vertical-align: top;\n",
              "    }\n",
              "\n",
              "    .dataframe thead th {\n",
              "        text-align: right;\n",
              "    }\n",
              "</style>\n",
              "<table border=\"1\" class=\"dataframe\">\n",
              "  <thead>\n",
              "    <tr style=\"text-align: right;\">\n",
              "      <th></th>\n",
              "      <th></th>\n",
              "      <th>trans_date_trans_time</th>\n",
              "      <th>cc_num</th>\n",
              "      <th>merchant</th>\n",
              "      <th>category</th>\n",
              "      <th>amt</th>\n",
              "      <th>gender</th>\n",
              "      <th>street</th>\n",
              "      <th>city</th>\n",
              "      <th>state</th>\n",
              "      <th>zip</th>\n",
              "      <th>...</th>\n",
              "      <th>total_amt_client_merchant_1_lastDay</th>\n",
              "      <th>total_amt_client_merchant_7_lastDay</th>\n",
              "      <th>total_amt_client_merchant_30_lastDay</th>\n",
              "      <th>avg_amt_client_merchant_every_day</th>\n",
              "      <th>avg_amt_client_merchant_per_30_days</th>\n",
              "      <th>avg_amt_client_customer_per_7_days</th>\n",
              "      <th>distance_en_km</th>\n",
              "      <th>time_diff</th>\n",
              "      <th>period_first_last</th>\n",
              "      <th>week_of_year</th>\n",
              "    </tr>\n",
              "    <tr>\n",
              "      <th>cc_num</th>\n",
              "      <th>trans_date_trans_time</th>\n",
              "      <th></th>\n",
              "      <th></th>\n",
              "      <th></th>\n",
              "      <th></th>\n",
              "      <th></th>\n",
              "      <th></th>\n",
              "      <th></th>\n",
              "      <th></th>\n",
              "      <th></th>\n",
              "      <th></th>\n",
              "      <th></th>\n",
              "      <th></th>\n",
              "      <th></th>\n",
              "      <th></th>\n",
              "      <th></th>\n",
              "      <th></th>\n",
              "      <th></th>\n",
              "      <th></th>\n",
              "      <th></th>\n",
              "      <th></th>\n",
              "      <th></th>\n",
              "    </tr>\n",
              "  </thead>\n",
              "  <tbody>\n",
              "    <tr>\n",
              "      <th rowspan=\"5\" valign=\"top\">60416207185</th>\n",
              "      <th>2020-06-21 13:05:42</th>\n",
              "      <td>2020-06-21 13:05:42</td>\n",
              "      <td>60416207185</td>\n",
              "      <td>fraud_Kutch-Ferry</td>\n",
              "      <td>home</td>\n",
              "      <td>124.66</td>\n",
              "      <td>F</td>\n",
              "      <td>9886 Anita Drive</td>\n",
              "      <td>Fort Washakie</td>\n",
              "      <td>WY</td>\n",
              "      <td>82514</td>\n",
              "      <td>...</td>\n",
              "      <td>124.66</td>\n",
              "      <td>124.66</td>\n",
              "      <td>124.66</td>\n",
              "      <td>124.66</td>\n",
              "      <td>124.66</td>\n",
              "      <td>124.66</td>\n",
              "      <td>30.457093</td>\n",
              "      <td>21909.406204</td>\n",
              "      <td>2</td>\n",
              "      <td>25</td>\n",
              "    </tr>\n",
              "    <tr>\n",
              "      <th>2020-06-21 16:25:36</th>\n",
              "      <td>2020-06-21 16:25:36</td>\n",
              "      <td>60416207185</td>\n",
              "      <td>fraud_Halvorson Group</td>\n",
              "      <td>misc_pos</td>\n",
              "      <td>78.52</td>\n",
              "      <td>F</td>\n",
              "      <td>9886 Anita Drive</td>\n",
              "      <td>Fort Washakie</td>\n",
              "      <td>WY</td>\n",
              "      <td>82514</td>\n",
              "      <td>...</td>\n",
              "      <td>78.52</td>\n",
              "      <td>78.52</td>\n",
              "      <td>78.52</td>\n",
              "      <td>78.52</td>\n",
              "      <td>78.52</td>\n",
              "      <td>78.52</td>\n",
              "      <td>91.942935</td>\n",
              "      <td>11994.000000</td>\n",
              "      <td>2</td>\n",
              "      <td>25</td>\n",
              "    </tr>\n",
              "    <tr>\n",
              "      <th>2020-06-22 07:58:33</th>\n",
              "      <td>2020-06-22 07:58:33</td>\n",
              "      <td>60416207185</td>\n",
              "      <td>fraud_Conroy-Cruickshank</td>\n",
              "      <td>gas_transport</td>\n",
              "      <td>65.25</td>\n",
              "      <td>F</td>\n",
              "      <td>9886 Anita Drive</td>\n",
              "      <td>Fort Washakie</td>\n",
              "      <td>WY</td>\n",
              "      <td>82514</td>\n",
              "      <td>...</td>\n",
              "      <td>65.25</td>\n",
              "      <td>65.25</td>\n",
              "      <td>65.25</td>\n",
              "      <td>65.25</td>\n",
              "      <td>65.25</td>\n",
              "      <td>65.25</td>\n",
              "      <td>121.857420</td>\n",
              "      <td>55977.000000</td>\n",
              "      <td>2</td>\n",
              "      <td>26</td>\n",
              "    </tr>\n",
              "    <tr>\n",
              "      <th>2020-06-22 15:32:31</th>\n",
              "      <td>2020-06-22 15:32:31</td>\n",
              "      <td>60416207185</td>\n",
              "      <td>fraud_Larkin Ltd</td>\n",
              "      <td>kids_pets</td>\n",
              "      <td>87.74</td>\n",
              "      <td>F</td>\n",
              "      <td>9886 Anita Drive</td>\n",
              "      <td>Fort Washakie</td>\n",
              "      <td>WY</td>\n",
              "      <td>82514</td>\n",
              "      <td>...</td>\n",
              "      <td>87.74</td>\n",
              "      <td>87.74</td>\n",
              "      <td>87.74</td>\n",
              "      <td>87.74</td>\n",
              "      <td>87.74</td>\n",
              "      <td>87.74</td>\n",
              "      <td>65.414164</td>\n",
              "      <td>27238.000000</td>\n",
              "      <td>2</td>\n",
              "      <td>26</td>\n",
              "    </tr>\n",
              "    <tr>\n",
              "      <th>2020-06-23 12:28:54</th>\n",
              "      <td>2020-06-23 12:28:54</td>\n",
              "      <td>60416207185</td>\n",
              "      <td>fraud_Leffler-Goldner</td>\n",
              "      <td>personal_care</td>\n",
              "      <td>148.02</td>\n",
              "      <td>F</td>\n",
              "      <td>9886 Anita Drive</td>\n",
              "      <td>Fort Washakie</td>\n",
              "      <td>WY</td>\n",
              "      <td>82514</td>\n",
              "      <td>...</td>\n",
              "      <td>148.02</td>\n",
              "      <td>148.02</td>\n",
              "      <td>148.02</td>\n",
              "      <td>148.02</td>\n",
              "      <td>148.02</td>\n",
              "      <td>148.02</td>\n",
              "      <td>38.311273</td>\n",
              "      <td>75383.000000</td>\n",
              "      <td>3</td>\n",
              "      <td>26</td>\n",
              "    </tr>\n",
              "    <tr>\n",
              "      <th>...</th>\n",
              "      <th>...</th>\n",
              "      <td>...</td>\n",
              "      <td>...</td>\n",
              "      <td>...</td>\n",
              "      <td>...</td>\n",
              "      <td>...</td>\n",
              "      <td>...</td>\n",
              "      <td>...</td>\n",
              "      <td>...</td>\n",
              "      <td>...</td>\n",
              "      <td>...</td>\n",
              "      <td>...</td>\n",
              "      <td>...</td>\n",
              "      <td>...</td>\n",
              "      <td>...</td>\n",
              "      <td>...</td>\n",
              "      <td>...</td>\n",
              "      <td>...</td>\n",
              "      <td>...</td>\n",
              "      <td>...</td>\n",
              "      <td>...</td>\n",
              "      <td>...</td>\n",
              "    </tr>\n",
              "    <tr>\n",
              "      <th rowspan=\"5\" valign=\"top\">4992346398065154184</th>\n",
              "      <th>2020-12-31 02:10:10</th>\n",
              "      <td>2020-12-31 02:10:10</td>\n",
              "      <td>4992346398065154184</td>\n",
              "      <td>fraud_Parisian and Sons</td>\n",
              "      <td>gas_transport</td>\n",
              "      <td>66.11</td>\n",
              "      <td>M</td>\n",
              "      <td>920 Patrick Light</td>\n",
              "      <td>Mc Nabb</td>\n",
              "      <td>IL</td>\n",
              "      <td>61335</td>\n",
              "      <td>...</td>\n",
              "      <td>66.11</td>\n",
              "      <td>66.11</td>\n",
              "      <td>140.12</td>\n",
              "      <td>66.11</td>\n",
              "      <td>70.06</td>\n",
              "      <td>66.11</td>\n",
              "      <td>44.885043</td>\n",
              "      <td>8077.000000</td>\n",
              "      <td>3</td>\n",
              "      <td>53</td>\n",
              "    </tr>\n",
              "    <tr>\n",
              "      <th>2020-12-31 05:13:35</th>\n",
              "      <td>2020-12-31 05:13:35</td>\n",
              "      <td>4992346398065154184</td>\n",
              "      <td>fraud_Bogisich-Homenick</td>\n",
              "      <td>misc_net</td>\n",
              "      <td>4.58</td>\n",
              "      <td>M</td>\n",
              "      <td>920 Patrick Light</td>\n",
              "      <td>Mc Nabb</td>\n",
              "      <td>IL</td>\n",
              "      <td>61335</td>\n",
              "      <td>...</td>\n",
              "      <td>4.58</td>\n",
              "      <td>4.58</td>\n",
              "      <td>4.58</td>\n",
              "      <td>4.58</td>\n",
              "      <td>4.58</td>\n",
              "      <td>4.58</td>\n",
              "      <td>81.485915</td>\n",
              "      <td>11005.000000</td>\n",
              "      <td>3</td>\n",
              "      <td>53</td>\n",
              "    </tr>\n",
              "    <tr>\n",
              "      <th>2020-12-31 11:15:44</th>\n",
              "      <td>2020-12-31 11:15:44</td>\n",
              "      <td>4992346398065154184</td>\n",
              "      <td>fraud_Erdman-Kertzmann</td>\n",
              "      <td>gas_transport</td>\n",
              "      <td>95.96</td>\n",
              "      <td>M</td>\n",
              "      <td>920 Patrick Light</td>\n",
              "      <td>Mc Nabb</td>\n",
              "      <td>IL</td>\n",
              "      <td>61335</td>\n",
              "      <td>...</td>\n",
              "      <td>95.96</td>\n",
              "      <td>95.96</td>\n",
              "      <td>95.96</td>\n",
              "      <td>95.96</td>\n",
              "      <td>95.96</td>\n",
              "      <td>95.96</td>\n",
              "      <td>36.046110</td>\n",
              "      <td>21729.000000</td>\n",
              "      <td>3</td>\n",
              "      <td>53</td>\n",
              "    </tr>\n",
              "    <tr>\n",
              "      <th>2020-12-31 11:17:25</th>\n",
              "      <td>2020-12-31 11:17:25</td>\n",
              "      <td>4992346398065154184</td>\n",
              "      <td>fraud_Stracke-Lemke</td>\n",
              "      <td>grocery_pos</td>\n",
              "      <td>149.48</td>\n",
              "      <td>M</td>\n",
              "      <td>920 Patrick Light</td>\n",
              "      <td>Mc Nabb</td>\n",
              "      <td>IL</td>\n",
              "      <td>61335</td>\n",
              "      <td>...</td>\n",
              "      <td>149.48</td>\n",
              "      <td>149.48</td>\n",
              "      <td>149.48</td>\n",
              "      <td>149.48</td>\n",
              "      <td>149.48</td>\n",
              "      <td>149.48</td>\n",
              "      <td>81.769332</td>\n",
              "      <td>101.000000</td>\n",
              "      <td>3</td>\n",
              "      <td>53</td>\n",
              "    </tr>\n",
              "    <tr>\n",
              "      <th>2020-12-31 13:24:36</th>\n",
              "      <td>2020-12-31 13:24:36</td>\n",
              "      <td>4992346398065154184</td>\n",
              "      <td>fraud_Roberts, Daniel and Macejkovic</td>\n",
              "      <td>kids_pets</td>\n",
              "      <td>20.55</td>\n",
              "      <td>M</td>\n",
              "      <td>920 Patrick Light</td>\n",
              "      <td>Mc Nabb</td>\n",
              "      <td>IL</td>\n",
              "      <td>61335</td>\n",
              "      <td>...</td>\n",
              "      <td>20.55</td>\n",
              "      <td>20.55</td>\n",
              "      <td>20.55</td>\n",
              "      <td>20.55</td>\n",
              "      <td>20.55</td>\n",
              "      <td>20.55</td>\n",
              "      <td>22.078030</td>\n",
              "      <td>7631.000000</td>\n",
              "      <td>3</td>\n",
              "      <td>53</td>\n",
              "    </tr>\n",
              "  </tbody>\n",
              "</table>\n",
              "<p>555719 rows × 64 columns</p>\n",
              "</div>\n",
              "    <div class=\"colab-df-buttons\">\n",
              "\n",
              "  <div class=\"colab-df-container\">\n",
              "    <button class=\"colab-df-convert\" onclick=\"convertToInteractive('df-9f5d5df6-70d2-4458-ad3b-78a6b116ca9e')\"\n",
              "            title=\"Convert this dataframe to an interactive table.\"\n",
              "            style=\"display:none;\">\n",
              "\n",
              "  <svg xmlns=\"http://www.w3.org/2000/svg\" height=\"24px\" viewBox=\"0 -960 960 960\">\n",
              "    <path d=\"M120-120v-720h720v720H120Zm60-500h600v-160H180v160Zm220 220h160v-160H400v160Zm0 220h160v-160H400v160ZM180-400h160v-160H180v160Zm440 0h160v-160H620v160ZM180-180h160v-160H180v160Zm440 0h160v-160H620v160Z\"/>\n",
              "  </svg>\n",
              "    </button>\n",
              "\n",
              "  <style>\n",
              "    .colab-df-container {\n",
              "      display:flex;\n",
              "      gap: 12px;\n",
              "    }\n",
              "\n",
              "    .colab-df-convert {\n",
              "      background-color: #E8F0FE;\n",
              "      border: none;\n",
              "      border-radius: 50%;\n",
              "      cursor: pointer;\n",
              "      display: none;\n",
              "      fill: #1967D2;\n",
              "      height: 32px;\n",
              "      padding: 0 0 0 0;\n",
              "      width: 32px;\n",
              "    }\n",
              "\n",
              "    .colab-df-convert:hover {\n",
              "      background-color: #E2EBFA;\n",
              "      box-shadow: 0px 1px 2px rgba(60, 64, 67, 0.3), 0px 1px 3px 1px rgba(60, 64, 67, 0.15);\n",
              "      fill: #174EA6;\n",
              "    }\n",
              "\n",
              "    .colab-df-buttons div {\n",
              "      margin-bottom: 4px;\n",
              "    }\n",
              "\n",
              "    [theme=dark] .colab-df-convert {\n",
              "      background-color: #3B4455;\n",
              "      fill: #D2E3FC;\n",
              "    }\n",
              "\n",
              "    [theme=dark] .colab-df-convert:hover {\n",
              "      background-color: #434B5C;\n",
              "      box-shadow: 0px 1px 3px 1px rgba(0, 0, 0, 0.15);\n",
              "      filter: drop-shadow(0px 1px 2px rgba(0, 0, 0, 0.3));\n",
              "      fill: #FFFFFF;\n",
              "    }\n",
              "  </style>\n",
              "\n",
              "    <script>\n",
              "      const buttonEl =\n",
              "        document.querySelector('#df-9f5d5df6-70d2-4458-ad3b-78a6b116ca9e button.colab-df-convert');\n",
              "      buttonEl.style.display =\n",
              "        google.colab.kernel.accessAllowed ? 'block' : 'none';\n",
              "\n",
              "      async function convertToInteractive(key) {\n",
              "        const element = document.querySelector('#df-9f5d5df6-70d2-4458-ad3b-78a6b116ca9e');\n",
              "        const dataTable =\n",
              "          await google.colab.kernel.invokeFunction('convertToInteractive',\n",
              "                                                    [key], {});\n",
              "        if (!dataTable) return;\n",
              "\n",
              "        const docLinkHtml = 'Like what you see? Visit the ' +\n",
              "          '<a target=\"_blank\" href=https://colab.research.google.com/notebooks/data_table.ipynb>data table notebook</a>'\n",
              "          + ' to learn more about interactive tables.';\n",
              "        element.innerHTML = '';\n",
              "        dataTable['output_type'] = 'display_data';\n",
              "        await google.colab.output.renderOutput(dataTable, element);\n",
              "        const docLink = document.createElement('div');\n",
              "        docLink.innerHTML = docLinkHtml;\n",
              "        element.appendChild(docLink);\n",
              "      }\n",
              "    </script>\n",
              "  </div>\n",
              "\n",
              "\n",
              "<div id=\"df-23d8a5b2-d1ad-4f14-a7d4-e204a9b57b47\">\n",
              "  <button class=\"colab-df-quickchart\" onclick=\"quickchart('df-23d8a5b2-d1ad-4f14-a7d4-e204a9b57b47')\"\n",
              "            title=\"Suggest charts\"\n",
              "            style=\"display:none;\">\n",
              "\n",
              "<svg xmlns=\"http://www.w3.org/2000/svg\" height=\"24px\"viewBox=\"0 0 24 24\"\n",
              "     width=\"24px\">\n",
              "    <g>\n",
              "        <path d=\"M19 3H5c-1.1 0-2 .9-2 2v14c0 1.1.9 2 2 2h14c1.1 0 2-.9 2-2V5c0-1.1-.9-2-2-2zM9 17H7v-7h2v7zm4 0h-2V7h2v10zm4 0h-2v-4h2v4z\"/>\n",
              "    </g>\n",
              "</svg>\n",
              "  </button>\n",
              "\n",
              "<style>\n",
              "  .colab-df-quickchart {\n",
              "      --bg-color: #E8F0FE;\n",
              "      --fill-color: #1967D2;\n",
              "      --hover-bg-color: #E2EBFA;\n",
              "      --hover-fill-color: #174EA6;\n",
              "      --disabled-fill-color: #AAA;\n",
              "      --disabled-bg-color: #DDD;\n",
              "  }\n",
              "\n",
              "  [theme=dark] .colab-df-quickchart {\n",
              "      --bg-color: #3B4455;\n",
              "      --fill-color: #D2E3FC;\n",
              "      --hover-bg-color: #434B5C;\n",
              "      --hover-fill-color: #FFFFFF;\n",
              "      --disabled-bg-color: #3B4455;\n",
              "      --disabled-fill-color: #666;\n",
              "  }\n",
              "\n",
              "  .colab-df-quickchart {\n",
              "    background-color: var(--bg-color);\n",
              "    border: none;\n",
              "    border-radius: 50%;\n",
              "    cursor: pointer;\n",
              "    display: none;\n",
              "    fill: var(--fill-color);\n",
              "    height: 32px;\n",
              "    padding: 0;\n",
              "    width: 32px;\n",
              "  }\n",
              "\n",
              "  .colab-df-quickchart:hover {\n",
              "    background-color: var(--hover-bg-color);\n",
              "    box-shadow: 0 1px 2px rgba(60, 64, 67, 0.3), 0 1px 3px 1px rgba(60, 64, 67, 0.15);\n",
              "    fill: var(--button-hover-fill-color);\n",
              "  }\n",
              "\n",
              "  .colab-df-quickchart-complete:disabled,\n",
              "  .colab-df-quickchart-complete:disabled:hover {\n",
              "    background-color: var(--disabled-bg-color);\n",
              "    fill: var(--disabled-fill-color);\n",
              "    box-shadow: none;\n",
              "  }\n",
              "\n",
              "  .colab-df-spinner {\n",
              "    border: 2px solid var(--fill-color);\n",
              "    border-color: transparent;\n",
              "    border-bottom-color: var(--fill-color);\n",
              "    animation:\n",
              "      spin 1s steps(1) infinite;\n",
              "  }\n",
              "\n",
              "  @keyframes spin {\n",
              "    0% {\n",
              "      border-color: transparent;\n",
              "      border-bottom-color: var(--fill-color);\n",
              "      border-left-color: var(--fill-color);\n",
              "    }\n",
              "    20% {\n",
              "      border-color: transparent;\n",
              "      border-left-color: var(--fill-color);\n",
              "      border-top-color: var(--fill-color);\n",
              "    }\n",
              "    30% {\n",
              "      border-color: transparent;\n",
              "      border-left-color: var(--fill-color);\n",
              "      border-top-color: var(--fill-color);\n",
              "      border-right-color: var(--fill-color);\n",
              "    }\n",
              "    40% {\n",
              "      border-color: transparent;\n",
              "      border-right-color: var(--fill-color);\n",
              "      border-top-color: var(--fill-color);\n",
              "    }\n",
              "    60% {\n",
              "      border-color: transparent;\n",
              "      border-right-color: var(--fill-color);\n",
              "    }\n",
              "    80% {\n",
              "      border-color: transparent;\n",
              "      border-right-color: var(--fill-color);\n",
              "      border-bottom-color: var(--fill-color);\n",
              "    }\n",
              "    90% {\n",
              "      border-color: transparent;\n",
              "      border-bottom-color: var(--fill-color);\n",
              "    }\n",
              "  }\n",
              "</style>\n",
              "\n",
              "  <script>\n",
              "    async function quickchart(key) {\n",
              "      const quickchartButtonEl =\n",
              "        document.querySelector('#' + key + ' button');\n",
              "      quickchartButtonEl.disabled = true;  // To prevent multiple clicks.\n",
              "      quickchartButtonEl.classList.add('colab-df-spinner');\n",
              "      try {\n",
              "        const charts = await google.colab.kernel.invokeFunction(\n",
              "            'suggestCharts', [key], {});\n",
              "      } catch (error) {\n",
              "        console.error('Error during call to suggestCharts:', error);\n",
              "      }\n",
              "      quickchartButtonEl.classList.remove('colab-df-spinner');\n",
              "      quickchartButtonEl.classList.add('colab-df-quickchart-complete');\n",
              "    }\n",
              "    (() => {\n",
              "      let quickchartButtonEl =\n",
              "        document.querySelector('#df-23d8a5b2-d1ad-4f14-a7d4-e204a9b57b47 button');\n",
              "      quickchartButtonEl.style.display =\n",
              "        google.colab.kernel.accessAllowed ? 'block' : 'none';\n",
              "    })();\n",
              "  </script>\n",
              "</div>\n",
              "\n",
              "  <div id=\"id_d7c9c942-6d38-447c-9e23-ea9eda02a1ea\">\n",
              "    <style>\n",
              "      .colab-df-generate {\n",
              "        background-color: #E8F0FE;\n",
              "        border: none;\n",
              "        border-radius: 50%;\n",
              "        cursor: pointer;\n",
              "        display: none;\n",
              "        fill: #1967D2;\n",
              "        height: 32px;\n",
              "        padding: 0 0 0 0;\n",
              "        width: 32px;\n",
              "      }\n",
              "\n",
              "      .colab-df-generate:hover {\n",
              "        background-color: #E2EBFA;\n",
              "        box-shadow: 0px 1px 2px rgba(60, 64, 67, 0.3), 0px 1px 3px 1px rgba(60, 64, 67, 0.15);\n",
              "        fill: #174EA6;\n",
              "      }\n",
              "\n",
              "      [theme=dark] .colab-df-generate {\n",
              "        background-color: #3B4455;\n",
              "        fill: #D2E3FC;\n",
              "      }\n",
              "\n",
              "      [theme=dark] .colab-df-generate:hover {\n",
              "        background-color: #434B5C;\n",
              "        box-shadow: 0px 1px 3px 1px rgba(0, 0, 0, 0.15);\n",
              "        filter: drop-shadow(0px 1px 2px rgba(0, 0, 0, 0.3));\n",
              "        fill: #FFFFFF;\n",
              "      }\n",
              "    </style>\n",
              "    <button class=\"colab-df-generate\" onclick=\"generateWithVariable('df')\"\n",
              "            title=\"Generate code using this dataframe.\"\n",
              "            style=\"display:none;\">\n",
              "\n",
              "  <svg xmlns=\"http://www.w3.org/2000/svg\" height=\"24px\"viewBox=\"0 0 24 24\"\n",
              "       width=\"24px\">\n",
              "    <path d=\"M7,19H8.4L18.45,9,17,7.55,7,17.6ZM5,21V16.75L18.45,3.32a2,2,0,0,1,2.83,0l1.4,1.43a1.91,1.91,0,0,1,.58,1.4,1.91,1.91,0,0,1-.58,1.4L9.25,21ZM18.45,9,17,7.55Zm-12,3A5.31,5.31,0,0,0,4.9,8.1,5.31,5.31,0,0,0,1,6.5,5.31,5.31,0,0,0,4.9,4.9,5.31,5.31,0,0,0,6.5,1,5.31,5.31,0,0,0,8.1,4.9,5.31,5.31,0,0,0,12,6.5,5.46,5.46,0,0,0,6.5,12Z\"/>\n",
              "  </svg>\n",
              "    </button>\n",
              "    <script>\n",
              "      (() => {\n",
              "      const buttonEl =\n",
              "        document.querySelector('#id_d7c9c942-6d38-447c-9e23-ea9eda02a1ea button.colab-df-generate');\n",
              "      buttonEl.style.display =\n",
              "        google.colab.kernel.accessAllowed ? 'block' : 'none';\n",
              "\n",
              "      buttonEl.onclick = () => {\n",
              "        google.colab.notebook.generateWithVariable('df');\n",
              "      }\n",
              "      })();\n",
              "    </script>\n",
              "  </div>\n",
              "\n",
              "    </div>\n",
              "  </div>\n"
            ],
            "application/vnd.google.colaboratory.intrinsic+json": {
              "type": "dataframe",
              "variable_name": "df"
            }
          },
          "metadata": {},
          "execution_count": 2
        }
      ]
    },
    {
      "cell_type": "code",
      "execution_count": null,
      "metadata": {
        "id": "80Us7yVHJ7cd",
        "colab": {
          "base_uri": "https://localhost:8080/"
        },
        "outputId": "c85ef24d-5899-4013-dea5-369cbd87c852"
      },
      "outputs": [
        {
          "output_type": "execute_result",
          "data": {
            "text/plain": [
              "Index(['trans_date_trans_time', 'cc_num', 'merchant', 'category', 'amt',\n",
              "       'gender', 'street', 'city', 'state', 'zip', 'lat', 'long', 'job',\n",
              "       'unix_time', 'merch_lat', 'merch_long', 'is_fraud', 'age_cust',\n",
              "       'age_group', 'hour', 'day', 'month', 'hourEnc', 'is_weekend',\n",
              "       'day_of_week', 'year_week', 'num_transactions', 'avg_amt_1_lastDay',\n",
              "       'avg_amt_7_lastDay', 'avg_amt_30_lastDay', 'total_amt_1_lastDay',\n",
              "       'total_amt_7_lastDay', 'total_amt_30_lastDay', 'total_amt_every_day',\n",
              "       'total_amt_per_30_days', 'total_amt_7_days', 'avg_amt_every_day',\n",
              "       'avg_amt_per_30_days', 'avg_amt_per_7_days',\n",
              "       'total_num_transactions_per_day', 'total_num_transactions_per_7_days',\n",
              "       'total_num_transactions_per_30_days', 'total_num_transactions_lastday',\n",
              "       'total_num_transactions_last7_days',\n",
              "       'total_num_transactions_last30_days',\n",
              "       'total_num_trans_merchant_client_lastday',\n",
              "       'total_num_trans_merchant_client_last7_days',\n",
              "       'total_num_trans_merchant_client_last30_days',\n",
              "       'total_num_trans_merchant_per_day',\n",
              "       'total_num_trans_merchant_per_7_days',\n",
              "       'total_num_trans_merchant_per_30_days',\n",
              "       'total_amt_client_merchant_every_day',\n",
              "       'total_amt_client_merchant_per_30_days',\n",
              "       'total_amt_client_merchant_7_days',\n",
              "       'total_amt_client_merchant_1_lastDay',\n",
              "       'total_amt_client_merchant_7_lastDay',\n",
              "       'total_amt_client_merchant_30_lastDay',\n",
              "       'avg_amt_client_merchant_every_day',\n",
              "       'avg_amt_client_merchant_per_30_days',\n",
              "       'avg_amt_client_customer_per_7_days', 'distance_en_km', 'time_diff',\n",
              "       'period_first_last', 'week_of_year'],\n",
              "      dtype='object')"
            ]
          },
          "metadata": {},
          "execution_count": 3
        }
      ],
      "source": [
        "df.columns"
      ]
    },
    {
      "cell_type": "code",
      "execution_count": null,
      "metadata": {
        "colab": {
          "base_uri": "https://localhost:8080/"
        },
        "id": "Uxuaj51bAqvV",
        "outputId": "5717a4a0-ffac-47ad-cac6-9eb99d3431f4"
      },
      "outputs": [
        {
          "output_type": "execute_result",
          "data": {
            "text/plain": [
              "('Count_train',\n",
              " is_fraud\n",
              " 0    354267\n",
              " 1      1393\n",
              " Name: count, dtype: int64,\n",
              " 'Count_test',\n",
              " is_fraud\n",
              " 0    110719\n",
              " 1       425\n",
              " Name: count, dtype: int64,\n",
              " 'Count_val',\n",
              " is_fraud\n",
              " 0    88588\n",
              " 1      327\n",
              " Name: count, dtype: int64)"
            ]
          },
          "metadata": {},
          "execution_count": 46
        }
      ],
      "source": [
        "'Count_train',y_train.value_counts(),'Count_test',y_test.value_counts(),'Count_val' ,y_val.value_counts()"
      ]
    }
  ],
  "metadata": {
    "accelerator": "GPU",
    "colab": {
      "gpuType": "T4",
      "provenance": []
    },
    "kernelspec": {
      "display_name": "Python 3",
      "name": "python3"
    },
    "language_info": {
      "name": "python"
    }
  },
  "nbformat": 4,
  "nbformat_minor": 0
}